{
 "cells": [
  {
   "cell_type": "markdown",
   "metadata": {},
   "source": [
    "# Arrays 101\n",
    "\n",
    "## Max Consecutive Ones\n",
    "\n",
    "[https://leetcode.com/explore/learn/card/fun-with-arrays/521/introduction/3238/](https://leetcode.com/explore/learn/card/fun-with-arrays/521/introduction/3238/)\n"
   ]
  },
  {
   "cell_type": "code",
   "execution_count": 1,
   "metadata": {},
   "outputs": [],
   "source": [
    "# My initial code:\n",
    "from typing import List\n",
    "\n",
    "class Solution:\n",
    "    def findMaxConsecutiveOnes(self, nums: List[int]) -> int:\n",
    "        all_max = 0\n",
    "        curr_max = 0\n",
    "        for i in nums:\n",
    "            if i == 1:\n",
    "                curr_max += 1\n",
    "            else:\n",
    "                curr_max = 0\n",
    "            if curr_max > all_max:\n",
    "                all_max = curr_max\n",
    "        return all_max\n"
   ]
  },
  {
   "cell_type": "code",
   "execution_count": 2,
   "metadata": {},
   "outputs": [],
   "source": [
    "# later, I changed it to:\n",
    "class Solution:\n",
    "    def findMaxConsecutiveOnes(self, nums: List[int]) -> int:\n",
    "        all_max = 0\n",
    "        curr_max = 0\n",
    "        for i in nums:\n",
    "            if i == 1:\n",
    "                curr_max += 1\n",
    "                all_max = max(all_max, curr_max)\n",
    "            else:\n",
    "                curr_max = 0\n",
    "        return all_max"
   ]
  },
  {
   "cell_type": "code",
   "execution_count": 3,
   "metadata": {},
   "outputs": [
    {
     "name": "stdout",
     "output_type": "stream",
     "text": [
      "3\n"
     ]
    }
   ],
   "source": [
    "# Example usage:\n",
    "sol = Solution()\n",
    "test_nums = [1, 1, 0, 1, 1, 1]\n",
    "print(sol.findMaxConsecutiveOnes(test_nums))  # Output: 3"
   ]
  },
  {
   "cell_type": "markdown",
   "metadata": {},
   "source": [
    "Time and Space Complexity Analysis:\n",
    "\n",
    "- Time: $O(n)$\n",
    "- Space: $O(1)$"
   ]
  },
  {
   "cell_type": "markdown",
   "metadata": {},
   "source": [
    "## Find Numbers with Even Number of Digits\n",
    "\n",
    "[https://leetcode.com/problems/find-numbers-with-even-number-of-digits/description/](https://leetcode.com/problems/find-numbers-with-even-number-of-digits/description/)\n",
    "\n",
    "My original code:"
   ]
  },
  {
   "cell_type": "code",
   "execution_count": 4,
   "metadata": {},
   "outputs": [],
   "source": [
    "class Solution:\n",
    "    def findNumbers(self, nums: List[int]) -> int:\n",
    "        even_digits_num = 0\n",
    "        for i in nums:\n",
    "            if len(str(i)) % 2 == 0:\n",
    "                even_digits_num += 1\n",
    "        return even_digits_num"
   ]
  },
  {
   "cell_type": "markdown",
   "metadata": {},
   "source": [
    "Time and Space Complexity Analysis:\n",
    "\n",
    "- Time: $O(n)$\n",
    "- Space: $O(1)$\n",
    "\n",
    "I saw an alternative:"
   ]
  },
  {
   "cell_type": "code",
   "execution_count": 5,
   "metadata": {},
   "outputs": [],
   "source": [
    "class Solution:\n",
    "    def findNumbers(self, nums: List[int]) -> int:\n",
    "        return len([x for x in nums if len(str(x)) % 2 == 0])"
   ]
  },
  {
   "cell_type": "markdown",
   "metadata": {},
   "source": [
    "Time and Space Complexity Analysis:\n",
    "\n",
    "- Time: $O(n)$\n",
    "- Space: $O(n)$\n",
    "\n",
    "## Squares of a Sorted Array\n",
    "\n",
    "[https://leetcode.com/explore/learn/card/fun-with-arrays/521/introduction/3240/](https://leetcode.com/explore/learn/card/fun-with-arrays/521/introduction/3240/)"
   ]
  },
  {
   "cell_type": "code",
   "execution_count": 6,
   "metadata": {},
   "outputs": [],
   "source": [
    "## original solution\n",
    "class Solution:\n",
    "    def sortedSquares(self, nums: List[int]) -> List[int]:\n",
    "        squared_arr = [x**2 for x in nums]\n",
    "        sorted_squared_arr = []\n",
    "        while squared_arr:\n",
    "            min_num = min(squared_arr)\n",
    "            sorted_squared_arr.append(min_num)\n",
    "            squared_arr.remove(min_num)\n",
    "        return sorted_squared_arr"
   ]
  },
  {
   "cell_type": "markdown",
   "metadata": {},
   "source": [
    "Time and Space Complexity Analysis:\n",
    "\n",
    "- Time: $O(n^2)$\n",
    "- Space: $O(n)$"
   ]
  },
  {
   "cell_type": "code",
   "execution_count": 7,
   "metadata": {},
   "outputs": [],
   "source": [
    "# updated version:\n",
    "\n",
    "class Solution:\n",
    "    def sortedSquares(self, nums: List[int]) -> List[int]:\n",
    "        result = [0] * len(nums)\n",
    "        left, right = 0, len(nums) - 1\n",
    "        # start, stop, step\n",
    "        for pos in range(len(nums) - 1, -1, -1):\n",
    "            if abs(nums[left]) > abs(nums[right]):\n",
    "                result[pos] = nums[left]**2\n",
    "                left += 1\n",
    "            else:\n",
    "                result[pos] = nums[right]**2\n",
    "                right -= 1\n",
    "        return result      "
   ]
  },
  {
   "cell_type": "markdown",
   "metadata": {},
   "source": [
    "Time and Space Complexity Analysis:\n",
    "\n",
    "- Time: $O(n)$\n",
    "- Space: $O(n)$"
   ]
  },
  {
   "cell_type": "code",
   "execution_count": 8,
   "metadata": {},
   "outputs": [],
   "source": [
    "## we can also use python's in-built sorthing algorithm\n",
    "class Solution:\n",
    "    def sortedSquares(self, nums: List[int]) -> List[int]:\n",
    "        squared_arr = [x**2 for x in nums]\n",
    "        squared_arr.sort()\n",
    "        return squared_arr"
   ]
  },
  {
   "cell_type": "markdown",
   "metadata": {},
   "source": [
    "Time and Space Complexity Analysis:\n",
    "\n",
    "- Time: $O(n \\log n)$\n",
    "- Space: $O(n)$"
   ]
  },
  {
   "cell_type": "markdown",
   "metadata": {},
   "source": [
    "## Duplicate zeros\n",
    "\n",
    "https://leetcode.com/problems/duplicate-zeros/description/"
   ]
  },
  {
   "cell_type": "code",
   "execution_count": 9,
   "metadata": {},
   "outputs": [],
   "source": [
    "class Solution:\n",
    "    def duplicateZeros(self, arr: List[int]) -> None:\n",
    "        \"\"\"\n",
    "        Do not return anything, modify arr in-place instead.\n",
    "        \"\"\"\n",
    "        length = len(arr)\n",
    "        for i in range(length):\n",
    "            i += len(arr) - length\n",
    "            if arr[i] == 0:\n",
    "                arr.insert(i+1, 0)\n",
    "        for j in range(len(arr)-1, length - 1, -1):\n",
    "            del arr[j]"
   ]
  },
  {
   "cell_type": "markdown",
   "metadata": {},
   "source": [
    "Time and Space Complexity Analysis:\n",
    "\n",
    "- Time: $O(n^2)$\n",
    "- Space: $O(1)$\n",
    "\n",
    "The above code can be improved a little bit. The second loop is unnecessary at all. "
   ]
  },
  {
   "cell_type": "code",
   "execution_count": 10,
   "metadata": {},
   "outputs": [],
   "source": [
    "class Solution:\n",
    "    def duplicateZeros(self, arr: List[int]) -> None:\n",
    "        \"\"\"\n",
    "        Do not return anything, modify arr in-place instead.\n",
    "        \"\"\"\n",
    "        length = len(arr)\n",
    "        i = 0\n",
    "        while i < length:\n",
    "            if arr[i] == 0:\n",
    "                arr.pop()\n",
    "                arr.insert(i + 1, 0)\n",
    "                i += 1\n",
    "            i += 1"
   ]
  },
  {
   "cell_type": "markdown",
   "metadata": {},
   "source": [
    "Time and Space Complexity Analysis:\n",
    "\n",
    "- Time: $O(n^2)$\n",
    "- Space: $O(1)$"
   ]
  }
 ],
 "metadata": {
  "kernelspec": {
   "display_name": "bayes",
   "language": "python",
   "name": "python3"
  },
  "language_info": {
   "codemirror_mode": {
    "name": "ipython",
    "version": 3
   },
   "file_extension": ".py",
   "mimetype": "text/x-python",
   "name": "python",
   "nbconvert_exporter": "python",
   "pygments_lexer": "ipython3",
   "version": "3.8.19"
  }
 },
 "nbformat": 4,
 "nbformat_minor": 2
}