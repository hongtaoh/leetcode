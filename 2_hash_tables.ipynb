{
 "cells": [
  {
   "cell_type": "code",
   "execution_count": 56,
   "metadata": {},
   "outputs": [],
   "source": [
    "from typing import List"
   ]
  },
  {
   "cell_type": "markdown",
   "metadata": {},
   "source": [
    "Hash tables:\n",
    "- Hash set\n",
    "- Hash map\n",
    "\n",
    "## [705 Design HashSet](https://leetcode.com/problems/design-hashset/description/)"
   ]
  },
  {
   "cell_type": "code",
   "execution_count": 57,
   "metadata": {},
   "outputs": [],
   "source": [
    "class MyHashSet:\n",
    "\n",
    "    def __init__(self):\n",
    "        self.design = set()\n",
    "\n",
    "    def add(self, key: int) -> None:\n",
    "        self.design.add(key)\n",
    "\n",
    "    def remove(self, key: int) -> None:\n",
    "        self.design.discard(key)\n",
    "\n",
    "    def contains(self, key: int) -> bool:\n",
    "        return key in self.design\n",
    "\n",
    "# Your MyHashSet object will be instantiated and called as such:\n",
    "# obj = MyHashSet()\n",
    "# obj.add(key)\n",
    "# obj.remove(key)\n",
    "# param_3 = obj.contains(key)"
   ]
  },
  {
   "cell_type": "markdown",
   "metadata": {},
   "source": [
    "## [706 Design HashMap](https://leetcode.com/problems/design-hashmap/description/)"
   ]
  },
  {
   "cell_type": "code",
   "execution_count": 58,
   "metadata": {},
   "outputs": [],
   "source": [
    "class MyHashMap:\n",
    "\n",
    "    def __init__(self):\n",
    "        self.dic = {}\n",
    "\n",
    "    def put(self, key: int, value: int) -> None:\n",
    "        self.dic[key] = value\n",
    "\n",
    "    def get(self, key: int) -> int:\n",
    "        return self.dic.get(key, -1)\n",
    "\n",
    "    def remove(self, key: int) -> None:\n",
    "        # if key in self.dic.keys():\n",
    "        #     del self.dic[key]\n",
    "        self.dic.pop(key, None)"
   ]
  },
  {
   "cell_type": "markdown",
   "metadata": {},
   "source": [
    "## [217 Contains Duplicates](https://leetcode.com/problems/contains-duplicate/description/)"
   ]
  },
  {
   "cell_type": "code",
   "execution_count": 59,
   "metadata": {},
   "outputs": [],
   "source": [
    "class Solution:\n",
    "    def containsDuplicate(self, nums: List[int]) -> bool:\n",
    "        return len(nums) != len(set(nums))"
   ]
  },
  {
   "cell_type": "code",
   "execution_count": 60,
   "metadata": {},
   "outputs": [
    {
     "data": {
      "text/plain": [
       "1"
      ]
     },
     "execution_count": 60,
     "metadata": {},
     "output_type": "execute_result"
    }
   ],
   "source": [
    "{1, 2, 3}.pop()"
   ]
  },
  {
   "cell_type": "markdown",
   "metadata": {},
   "source": [
    "## 136. [Single Number](https://leetcode.com/problems/single-number/description/)"
   ]
  },
  {
   "cell_type": "code",
   "execution_count": 61,
   "metadata": {},
   "outputs": [],
   "source": [
    "class Solution:\n",
    "    def singleNumber(self, nums: List[int]) -> int:\n",
    "        seen = set()\n",
    "        for num in nums:\n",
    "            if num in seen:\n",
    "                seen.remove(num)\n",
    "            else:\n",
    "                seen.add(num)\n",
    "        return seen.pop()"
   ]
  },
  {
   "cell_type": "markdown",
   "metadata": {},
   "source": [
    "## 349. [Intersection of Two Arrays](https://leetcode.com/problems/intersection-of-two-arrays/description/)"
   ]
  },
  {
   "cell_type": "code",
   "execution_count": 62,
   "metadata": {},
   "outputs": [],
   "source": [
    "class Solution:\n",
    "    def intersection(self, nums1: List[int], nums2: List[int]) -> List[int]:\n",
    "        return list(set(nums1).intersection(set(nums2)))"
   ]
  },
  {
   "cell_type": "code",
   "execution_count": 63,
   "metadata": {},
   "outputs": [],
   "source": [
    "class Solution:\n",
    "    def intersection(self, nums1: List[int], nums2: List[int]) -> List[int]:\n",
    "        set1 = set(nums1)\n",
    "        set2 = set(nums2)\n",
    "        intersection = []\n",
    "        for num in set1:\n",
    "            if num in set2:\n",
    "                intersection.append(num)\n",
    "        return intersection"
   ]
  },
  {
   "cell_type": "markdown",
   "metadata": {},
   "source": [
    "## 202. [Happy number](https://leetcode.com/problems/happy-number/description/)"
   ]
  },
  {
   "cell_type": "code",
   "execution_count": 64,
   "metadata": {},
   "outputs": [],
   "source": [
    "class Solution:\n",
    "    def isHappy(self, n: int) -> bool:\n",
    "        seen = set()\n",
    "        squared_result = n\n",
    "        while squared_result != 1:\n",
    "            squared_result = sum(int(i)**2 for i in str(squared_result))\n",
    "            if squared_result == 1: return True\n",
    "            if squared_result in seen: \n",
    "                return False\n",
    "            else:\n",
    "                seen.add(squared_result)\n",
    "        return True"
   ]
  },
  {
   "cell_type": "markdown",
   "metadata": {},
   "source": [
    "## 1. [Two Sum](https://leetcode.com/problems/two-sum/)"
   ]
  },
  {
   "cell_type": "code",
   "execution_count": 65,
   "metadata": {},
   "outputs": [],
   "source": [
    "class Solution:\n",
    "    def twoSum(self, nums: List[int], target: int) -> List[int]:\n",
    "        for i, num1 in enumerate(nums):\n",
    "            for j, num2 in enumerate(nums):\n",
    "                if i != j and num1 + num2 == target:\n",
    "                    return [i, j]"
   ]
  },
  {
   "cell_type": "markdown",
   "metadata": {},
   "source": [
    "The problem with the above solution is that the time complexity is $O(N^2)$.\n",
    "\n",
    "A better approach:"
   ]
  },
  {
   "cell_type": "code",
   "execution_count": 66,
   "metadata": {},
   "outputs": [],
   "source": [
    "class Solution:\n",
    "    def twoSum(self, nums: List[int], target: int) -> List[int]:\n",
    "        cache = {}\n",
    "        for i, n in enumerate(nums):\n",
    "            if n in cache:\n",
    "                return [cache[n], i]\n",
    "            else:\n",
    "                cache[target - n] = i"
   ]
  },
  {
   "cell_type": "markdown",
   "metadata": {},
   "source": [
    "## 205. [Isomorphic Strings](https://leetcode.com/problems/isomorphic-strings/description/)"
   ]
  },
  {
   "cell_type": "code",
   "execution_count": 67,
   "metadata": {},
   "outputs": [],
   "source": [
    "class Solution:\n",
    "    def isIsomorphic(self, s: str, t: str) -> bool:\n",
    "        dic1 = dict(zip(t, s))\n",
    "        dic2 = dict(zip(s, t))\n",
    "        for i, l in enumerate(t):\n",
    "            if dic1[l] != s[i]: return False \n",
    "        for i, l in enumerate(s):\n",
    "            if dic2[l] != t[i]: return False\n",
    "        return True"
   ]
  },
  {
   "cell_type": "markdown",
   "metadata": {},
   "source": [
    "A clever approach:"
   ]
  },
  {
   "cell_type": "code",
   "execution_count": 68,
   "metadata": {},
   "outputs": [],
   "source": [
    "class Solution:\n",
    "    def isIsomorphic(self, s: str, t: str) -> bool:\n",
    "        return len(set(s)) == len(set(t)) == len(set(zip(s, t)))"
   ]
  },
  {
   "cell_type": "markdown",
   "metadata": {},
   "source": [
    "## 599. [Minimum Index Sum of Two Lists](https://leetcode.com/problems/minimum-index-sum-of-two-lists/)"
   ]
  },
  {
   "cell_type": "markdown",
   "metadata": {},
   "source": [
    "My first approach:"
   ]
  },
  {
   "cell_type": "code",
   "execution_count": 69,
   "metadata": {},
   "outputs": [],
   "source": [
    "class Solution:\n",
    "    def findRestaurant(self, list1: List[str], list2: List[str]) -> List[str]:\n",
    "        list1_idx_dic = dict(zip(list1, range(len(list1))))\n",
    "        list2_idx_dic = dict(zip(list2, range(len(list2))))\n",
    "        common_strs = set.intersection(set(list1), set(list2))\n",
    "        common_str_idx_dic1 = dict(zip(common_strs, [list1_idx_dic[x] for x in common_strs]))\n",
    "        common_str_idx_dic2 = dict(zip(common_strs, [list2_idx_dic[x] for x in common_strs]))\n",
    "        idx_sum_dic = {}\n",
    "        least_idx_sum = float(\"inf\")\n",
    "        for s in common_strs:\n",
    "            idx_sum = common_str_idx_dic1[s] + common_str_idx_dic2[s]\n",
    "            idx_sum_dic[s] = idx_sum \n",
    "            if idx_sum < least_idx_sum:\n",
    "                least_idx_sum = idx_sum\n",
    "        output = []\n",
    "        for s, idx_sum in idx_sum_dic.items():\n",
    "            if idx_sum == least_idx_sum:\n",
    "                output.append(s)\n",
    "        return output"
   ]
  },
  {
   "cell_type": "markdown",
   "metadata": {},
   "source": [
    "It worked but ChatGPT gave me a better solution, which I think is amazing:"
   ]
  },
  {
   "cell_type": "code",
   "execution_count": 70,
   "metadata": {},
   "outputs": [],
   "source": [
    "class Solution:\n",
    "    def findRestaurant(self, list1: List[str], list2: List[str]) -> List[str]:\n",
    "        list1_dic = {s:i for i, s in enumerate(list1)}\n",
    "        min_sum = float(\"inf\")\n",
    "        \n",
    "        for j, s in enumerate(list2):\n",
    "            if s in list1_dic:\n",
    "                idx_sum = list1_dic[s] + j\n",
    "                if idx_sum < min_sum:\n",
    "                    min_sum = idx_sum\n",
    "                    result = [s]\n",
    "                elif idx_sum == min_sum:\n",
    "                    result.append(s)\n",
    "        return result"
   ]
  },
  {
   "cell_type": "markdown",
   "metadata": {},
   "source": [
    "## 387. [First Unique Character in a String](https://leetcode.com/problems/first-unique-character-in-a-string/description/)"
   ]
  },
  {
   "cell_type": "code",
   "execution_count": 71,
   "metadata": {},
   "outputs": [],
   "source": [
    "class Solution:\n",
    "    def firstUniqChar(self, s: str) -> int:\n",
    "        dic = {}\n",
    "        for t in s:\n",
    "            if t in dic:\n",
    "                dic[t] += 1\n",
    "            else:\n",
    "                dic[t] = 1\n",
    "        first_unique_ = \"\"\n",
    "        for t, freq in dic.items():\n",
    "            if freq == 1:\n",
    "                first_unique_ = t\n",
    "                break \n",
    "        if first_unique_ == \"\":\n",
    "            return -1\n",
    "        return s.index(first_unique_)"
   ]
  },
  {
   "cell_type": "markdown",
   "metadata": {},
   "source": [
    "A better approached given by ChatGPT:"
   ]
  },
  {
   "cell_type": "code",
   "execution_count": 72,
   "metadata": {},
   "outputs": [],
   "source": [
    "class Solution:\n",
    "    def firstUniqChar(self, s: str) -> int:\n",
    "        dic = {}\n",
    "        for t in s:\n",
    "            dic[t] = dic.get(t, 0) + 1\n",
    "        for i, t in enumerate(s):\n",
    "            if dic[t] == 1:\n",
    "                return i \n",
    "        return -1"
   ]
  }
 ],
 "metadata": {
  "kernelspec": {
   "display_name": "bayes",
   "language": "python",
   "name": "python3"
  },
  "language_info": {
   "codemirror_mode": {
    "name": "ipython",
    "version": 3
   },
   "file_extension": ".py",
   "mimetype": "text/x-python",
   "name": "python",
   "nbconvert_exporter": "python",
   "pygments_lexer": "ipython3",
   "version": "3.8.19"
  }
 },
 "nbformat": 4,
 "nbformat_minor": 2
}
