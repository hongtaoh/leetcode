{
 "cells": [
  {
   "cell_type": "markdown",
   "metadata": {},
   "source": [
    "# Arrays 101\n",
    "\n",
    "## Max Consecutive Ones\n",
    "\n",
    "[https://leetcode.com/explore/learn/card/fun-with-arrays/521/introduction/3238/](https://leetcode.com/explore/learn/card/fun-with-arrays/521/introduction/3238/)\n"
   ]
  },
  {
   "cell_type": "code",
   "execution_count": 1,
   "metadata": {},
   "outputs": [],
   "source": [
    "# My initial code:\n",
    "from typing import List\n",
    "\n",
    "class Solution:\n",
    "    def findMaxConsecutiveOnes(self, nums: List[int]) -> int:\n",
    "        all_max = 0\n",
    "        curr_max = 0\n",
    "        for i in nums:\n",
    "            if i == 1:\n",
    "                curr_max += 1\n",
    "            else:\n",
    "                curr_max = 0\n",
    "            if curr_max > all_max:\n",
    "                all_max = curr_max\n",
    "        return all_max\n"
   ]
  },
  {
   "cell_type": "code",
   "execution_count": 2,
   "metadata": {},
   "outputs": [],
   "source": [
    "# later, I changed it to:\n",
    "class Solution:\n",
    "    def findMaxConsecutiveOnes(self, nums: List[int]) -> int:\n",
    "        all_max = 0\n",
    "        curr_max = 0\n",
    "        for i in nums:\n",
    "            if i == 1:\n",
    "                curr_max += 1\n",
    "                all_max = max(all_max, curr_max)\n",
    "            else:\n",
    "                curr_max = 0\n",
    "        return all_max"
   ]
  },
  {
   "cell_type": "code",
   "execution_count": 3,
   "metadata": {},
   "outputs": [
    {
     "name": "stdout",
     "output_type": "stream",
     "text": [
      "3\n"
     ]
    }
   ],
   "source": [
    "# Example usage:\n",
    "sol = Solution()\n",
    "test_nums = [1, 1, 0, 1, 1, 1]\n",
    "print(sol.findMaxConsecutiveOnes(test_nums))  # Output: 3"
   ]
  },
  {
   "cell_type": "markdown",
   "metadata": {},
   "source": [
    "Time and Space Complexity Analysis:\n",
    "\n",
    "- Time: $O(n)$\n",
    "- Space: $O(1)$"
   ]
  },
  {
   "cell_type": "markdown",
   "metadata": {},
   "source": [
    "## Find Numbers with Even Number of Digits\n",
    "\n",
    "[https://leetcode.com/problems/find-numbers-with-even-number-of-digits/description/](https://leetcode.com/problems/find-numbers-with-even-number-of-digits/description/)\n",
    "\n",
    "My original code:"
   ]
  },
  {
   "cell_type": "code",
   "execution_count": 4,
   "metadata": {},
   "outputs": [],
   "source": [
    "class Solution:\n",
    "    def findNumbers(self, nums: List[int]) -> int:\n",
    "        even_digits_num = 0\n",
    "        for i in nums:\n",
    "            if len(str(i)) % 2 == 0:\n",
    "                even_digits_num += 1\n",
    "        return even_digits_num"
   ]
  },
  {
   "cell_type": "markdown",
   "metadata": {},
   "source": [
    "Time and Space Complexity Analysis:\n",
    "\n",
    "- Time: $O(n)$\n",
    "- Space: $O(1)$\n",
    "\n",
    "I saw an alternative:"
   ]
  },
  {
   "cell_type": "code",
   "execution_count": 5,
   "metadata": {},
   "outputs": [],
   "source": [
    "class Solution:\n",
    "    def findNumbers(self, nums: List[int]) -> int:\n",
    "        return len([x for x in nums if len(str(x)) % 2 == 0])"
   ]
  },
  {
   "cell_type": "markdown",
   "metadata": {},
   "source": [
    "Time and Space Complexity Analysis:\n",
    "\n",
    "- Time: $O(n)$\n",
    "- Space: $O(n)$\n",
    "\n",
    "## Squares of a Sorted Array\n",
    "\n",
    "[https://leetcode.com/explore/learn/card/fun-with-arrays/521/introduction/3240/](https://leetcode.com/explore/learn/card/fun-with-arrays/521/introduction/3240/)"
   ]
  },
  {
   "cell_type": "code",
   "execution_count": 6,
   "metadata": {},
   "outputs": [],
   "source": [
    "## original solution\n",
    "class Solution:\n",
    "    def sortedSquares(self, nums: List[int]) -> List[int]:\n",
    "        squared_arr = [x**2 for x in nums]\n",
    "        sorted_squared_arr = []\n",
    "        while squared_arr:\n",
    "            min_num = min(squared_arr)\n",
    "            sorted_squared_arr.append(min_num)\n",
    "            squared_arr.remove(min_num)\n",
    "        return sorted_squared_arr"
   ]
  },
  {
   "cell_type": "markdown",
   "metadata": {},
   "source": [
    "Time and Space Complexity Analysis:\n",
    "\n",
    "- Time: $O(n^2)$\n",
    "- Space: $O(n)$"
   ]
  },
  {
   "cell_type": "code",
   "execution_count": 7,
   "metadata": {},
   "outputs": [],
   "source": [
    "# updated version:\n",
    "\n",
    "class Solution:\n",
    "    def sortedSquares(self, nums: List[int]) -> List[int]:\n",
    "        result = [0] * len(nums)\n",
    "        left, right = 0, len(nums) - 1\n",
    "        # start, stop, step\n",
    "        for pos in range(len(nums) - 1, -1, -1):\n",
    "            if abs(nums[left]) > abs(nums[right]):\n",
    "                result[pos] = nums[left]**2\n",
    "                left += 1\n",
    "            else:\n",
    "                result[pos] = nums[right]**2\n",
    "                right -= 1\n",
    "        return result      "
   ]
  },
  {
   "cell_type": "markdown",
   "metadata": {},
   "source": [
    "Time and Space Complexity Analysis:\n",
    "\n",
    "- Time: $O(n)$\n",
    "- Space: $O(n)$"
   ]
  },
  {
   "cell_type": "code",
   "execution_count": 8,
   "metadata": {},
   "outputs": [],
   "source": [
    "## we can also use python's in-built sorthing algorithm\n",
    "class Solution:\n",
    "    def sortedSquares(self, nums: List[int]) -> List[int]:\n",
    "        squared_arr = [x**2 for x in nums]\n",
    "        squared_arr.sort()\n",
    "        return squared_arr"
   ]
  },
  {
   "cell_type": "markdown",
   "metadata": {},
   "source": [
    "Time and Space Complexity Analysis:\n",
    "\n",
    "- Time: $O(n \\log n)$\n",
    "- Space: $O(n)$"
   ]
  },
  {
   "cell_type": "markdown",
   "metadata": {},
   "source": [
    "## Duplicate zeros\n",
    "\n",
    "https://leetcode.com/problems/duplicate-zeros/description/"
   ]
  },
  {
   "cell_type": "code",
   "execution_count": 9,
   "metadata": {},
   "outputs": [],
   "source": [
    "class Solution:\n",
    "    def duplicateZeros(self, arr: List[int]) -> None:\n",
    "        \"\"\"\n",
    "        Do not return anything, modify arr in-place instead.\n",
    "        \"\"\"\n",
    "        length = len(arr)\n",
    "        for i in range(length):\n",
    "            i += len(arr) - length\n",
    "            if arr[i] == 0:\n",
    "                arr.insert(i+1, 0)\n",
    "        for j in range(len(arr)-1, length - 1, -1):\n",
    "            del arr[j]"
   ]
  },
  {
   "cell_type": "markdown",
   "metadata": {},
   "source": [
    "Time and Space Complexity Analysis:\n",
    "\n",
    "- Time: $O(n^2)$\n",
    "- Space: $O(1)$\n",
    "\n",
    "The above code can be improved a little bit. The second loop is unnecessary at all. "
   ]
  },
  {
   "cell_type": "code",
   "execution_count": 10,
   "metadata": {},
   "outputs": [],
   "source": [
    "class Solution:\n",
    "    def duplicateZeros(self, arr: List[int]) -> None:\n",
    "        \"\"\"\n",
    "        Do not return anything, modify arr in-place instead.\n",
    "        \"\"\"\n",
    "        length = len(arr)\n",
    "        i = 0\n",
    "        while i < length:\n",
    "            if arr[i] == 0:\n",
    "                arr.pop()\n",
    "                arr.insert(i + 1, 0)\n",
    "                i += 1\n",
    "            i += 1"
   ]
  },
  {
   "cell_type": "markdown",
   "metadata": {},
   "source": [
    "Time and Space Complexity Analysis:\n",
    "\n",
    "- Time: $O(n^2)$\n",
    "- Space: $O(1)$"
   ]
  },
  {
   "cell_type": "markdown",
   "metadata": {},
   "source": [
    "I thought of another solution while I was doing this a second time:"
   ]
  },
  {
   "cell_type": "code",
   "execution_count": 11,
   "metadata": {},
   "outputs": [],
   "source": [
    "class Solution:\n",
    "    def duplicateZeros(self, arr: List[int]) -> None:\n",
    "        \"\"\"\n",
    "        Do not return anything, modify arr in-place instead.\n",
    "        \"\"\"\n",
    "        length = len(arr)\n",
    "        i = 0\n",
    "        while i < length:\n",
    "            if arr[i] == 0:\n",
    "                if i + 2 < length:\n",
    "                    arr[i+2 :] = arr[i+1:length-1]\n",
    "                if i + 1 < length:\n",
    "                    arr[i+1] = 0\n",
    "                    i += 1\n",
    "            i += 1"
   ]
  },
  {
   "cell_type": "markdown",
   "metadata": {},
   "source": [
    "## Merge sorted array\n",
    "\n",
    "https://leetcode.com/problems/merge-sorted-array/"
   ]
  },
  {
   "cell_type": "code",
   "execution_count": 12,
   "metadata": {},
   "outputs": [],
   "source": [
    "class Solution:\n",
    "    def merge(self, nums1: List[int], m: int, nums2: List[int], n: int) -> None:\n",
    "        \"\"\"\n",
    "        Do not return anything, modify nums1 in-place instead.\n",
    "        \"\"\"\n",
    "        nums1[m:] = nums2\n",
    "        nums1.sort()"
   ]
  },
  {
   "cell_type": "markdown",
   "metadata": {},
   "source": [
    "This is like cheating. Bad. "
   ]
  },
  {
   "cell_type": "code",
   "execution_count": 13,
   "metadata": {},
   "outputs": [],
   "source": [
    "class Solution:\n",
    "    def merge(self, nums1: List[int], m: int, nums2: List[int], n: int) -> None:\n",
    "        \"\"\"\n",
    "        Do not return anything, modify nums1 in-place instead.\n",
    "        \"\"\"\n",
    "        p1 = m - 1\n",
    "        p2 = n - 1\n",
    "        p = m + n - 1\n",
    "        while p1 >= 0 and p2 >= 0:\n",
    "            if nums1[p1] > nums2[p2]:\n",
    "                nums1[p] = nums1[p1]\n",
    "                p1 -= 1\n",
    "            else:\n",
    "                nums1[p] = nums2[p2]\n",
    "                p2 -= 1\n",
    "            p -= 1\n",
    "        while p2 >= 0:\n",
    "            nums1[p] = nums2[p2]\n",
    "            p2 -= 1\n",
    "            p -= 1"
   ]
  },
  {
   "cell_type": "markdown",
   "metadata": {},
   "source": [
    "Time and Space Complexity Analysis:\n",
    "\n",
    "- Time: $O(m + n)$\n",
    "- Space: $O(1)$"
   ]
  },
  {
   "cell_type": "markdown",
   "metadata": {},
   "source": [
    "## Remove element\n",
    "\n",
    "https://leetcode.com/problems/remove-element/description/"
   ]
  },
  {
   "cell_type": "code",
   "execution_count": 14,
   "metadata": {},
   "outputs": [],
   "source": [
    "class Solution:\n",
    "    def removeElement(self, nums: List[int], val: int) -> int:\n",
    "        length = len(nums)\n",
    "        n_val = nums.count(val)\n",
    "        for i in range(length - n_val):\n",
    "            while nums[i] == val:\n",
    "                nums[i:length] = nums[i+1:length] + [val]\n",
    "        return length - n_val"
   ]
  },
  {
   "cell_type": "markdown",
   "metadata": {},
   "source": [
    "Time and Space Complexity Analysis:\n",
    "\n",
    "- Time: $O(n^2)$\n",
    "- Space: $O(1)$\n",
    "\n",
    "My method works but the time complexity is high. A better approach:"
   ]
  },
  {
   "cell_type": "code",
   "execution_count": 15,
   "metadata": {},
   "outputs": [],
   "source": [
    "class Solution:\n",
    "    def removeElement(self, nums: List[int], val: int) -> int:\n",
    "        replace_pos = 0\n",
    "        for num in nums:\n",
    "            if num != val:\n",
    "                nums[replace_pos] = num\n",
    "                replace_pos += 1\n",
    "        return replace_pos"
   ]
  },
  {
   "cell_type": "markdown",
   "metadata": {},
   "source": [
    "Time and Space Complexity Analysis:\n",
    "\n",
    "- Time: $O(n)$\n",
    "- Space: $O(1)$"
   ]
  },
  {
   "cell_type": "markdown",
   "metadata": {},
   "source": [
    "I thought of another solution when I did it the second time:"
   ]
  },
  {
   "cell_type": "code",
   "execution_count": 16,
   "metadata": {},
   "outputs": [],
   "source": [
    "class Solution:\n",
    "    def removeElement(self, nums: List[int], val: int) -> int:\n",
    "        nums_copy = nums.copy()\n",
    "        val_count = nums.count(val)\n",
    "        length = len(nums)\n",
    "        j = 0\n",
    "        for i, num in enumerate(nums_copy):\n",
    "            if num != val:\n",
    "                nums[j] = num\n",
    "                j += 1\n",
    "            if j == length - val_count:\n",
    "                break\n",
    "        return j"
   ]
  },
  {
   "cell_type": "markdown",
   "metadata": {},
   "source": [
    "However, this method uses extra space to store the copy. It will be at disadvantage when the arry is very large. "
   ]
  },
  {
   "cell_type": "markdown",
   "metadata": {},
   "source": [
    "## Remove duplicates from sorted arrays\n",
    "\n",
    "https://leetcode.com/problems/remove-duplicates-from-sorted-array/description/\n",
    "\n",
    "My original answer:"
   ]
  },
  {
   "cell_type": "code",
   "execution_count": 17,
   "metadata": {},
   "outputs": [],
   "source": [
    "class Solution:\n",
    "    def removeDuplicates(self, nums: List[int]) -> int:\n",
    "        length = len(nums)\n",
    "        replicate = 0\n",
    "        for i in range(1, length, 1):\n",
    "            if i < length - replicate:\n",
    "                while nums[i] in nums[:i]:\n",
    "                    replicate += 1\n",
    "                    nums[i:length] = nums[i+1:length] + [nums[i]]\n",
    "        return length - replicate"
   ]
  },
  {
   "cell_type": "markdown",
   "metadata": {},
   "source": [
    "Time and Space Complexity Analysis:\n",
    "\n",
    "- Time: $O(n^3)$\n",
    "- Space: $O(n)$\n",
    "\n",
    "Clearly, that's not what we want. The improved version:"
   ]
  },
  {
   "cell_type": "code",
   "execution_count": 18,
   "metadata": {},
   "outputs": [],
   "source": [
    "class Solution:\n",
    "    def removeDuplicates(self, nums: List[int]) -> int:\n",
    "        if not nums:\n",
    "            return 0\n",
    "\n",
    "        write_index = 1\n",
    "\n",
    "        for i in range(1, len(nums)):\n",
    "            if nums[i] != nums[i - 1]:\n",
    "                nums[write_index] = nums[i]\n",
    "                write_index += 1\n",
    "\n",
    "        return nums\n"
   ]
  },
  {
   "cell_type": "code",
   "execution_count": 19,
   "metadata": {},
   "outputs": [
    {
     "data": {
      "text/plain": [
       "[0, 1, 2, 3, 4, 2, 2, 3, 3, 4]"
      ]
     },
     "execution_count": 19,
     "metadata": {},
     "output_type": "execute_result"
    }
   ],
   "source": [
    "solution_instance = Solution()\n",
    "solution_instance.removeDuplicates([0,0,1,1,1,2,2,3,3,4])"
   ]
  },
  {
   "cell_type": "markdown",
   "metadata": {},
   "source": [
    "I did the a second time and came up with a new solution, which I think is much clearer. "
   ]
  },
  {
   "cell_type": "code",
   "execution_count": 20,
   "metadata": {},
   "outputs": [],
   "source": [
    "class Solution:\n",
    "    def removeDuplicates(self, nums: List[int]) -> int:\n",
    "        j = 1\n",
    "        i = 1\n",
    "        while i < len(nums):\n",
    "            if nums[i] == nums[i-1]:\n",
    "                i += 1\n",
    "            else:\n",
    "                nums[j] = nums[i]\n",
    "                j += 1\n",
    "                i += 1\n",
    "        return j"
   ]
  },
  {
   "cell_type": "markdown",
   "metadata": {},
   "source": [
    "## Check If N and Its Double Exist\n",
    "\n",
    "https://leetcode.com/problems/check-if-n-and-its-double-exist/description/\n",
    "\n",
    "My original code:"
   ]
  },
  {
   "cell_type": "code",
   "execution_count": 21,
   "metadata": {},
   "outputs": [],
   "source": [
    "class Solution:\n",
    "    def checkIfExist(self, arr: List[int]) -> bool:\n",
    "        for num in arr:\n",
    "            if num == 0:\n",
    "                if arr.count(0) >= 2:\n",
    "                    return True\n",
    "            elif num*2 in arr:\n",
    "                return True"
   ]
  },
  {
   "cell_type": "markdown",
   "metadata": {},
   "source": [
    "Time and Space Complexity Analysis:\n",
    "\n",
    "- Time: $O(n^2)$\n",
    "- Space: $O(1)$\n",
    "\n",
    "A little bit more improved version:"
   ]
  },
  {
   "cell_type": "code",
   "execution_count": 22,
   "metadata": {},
   "outputs": [],
   "source": [
    "class Solution:\n",
    "    def checkIfExist(self, arr: List[int]) -> bool:\n",
    "        if arr.count(0) > 1:\n",
    "            return True\n",
    "        S = set(arr) - {0}\n",
    "        for n in arr:\n",
    "            if n*2 in S:\n",
    "                return True\n",
    "        return False"
   ]
  },
  {
   "cell_type": "markdown",
   "metadata": {},
   "source": [
    "Time and Space Complexity Analysis:\n",
    "\n",
    "- Time: $O(n^2)$\n",
    "- Space: $O(1)$\n",
    "\n",
    "This is because no matter how large a set (or hash table) is, the time complexity of a membership check is $O(1)$. "
   ]
  },
  {
   "cell_type": "markdown",
   "metadata": {},
   "source": [
    "Another solution when I did it for the second time:"
   ]
  },
  {
   "cell_type": "code",
   "execution_count": 23,
   "metadata": {},
   "outputs": [],
   "source": [
    "class Solution:\n",
    "    def checkIfExist(self, arr: List[int]) -> bool:\n",
    "        length = len(arr)\n",
    "        for i in range(length):\n",
    "            for j in range(length):\n",
    "                if arr[i] == 2*arr[j] or arr[i] == arr[j]/2:\n",
    "                    if i != j:\n",
    "                        return True\n",
    "        return False"
   ]
  },
  {
   "cell_type": "markdown",
   "metadata": {},
   "source": [
    "## Valid Mountain Array\n",
    "\n",
    "https://leetcode.com/problems/valid-mountain-array/description/"
   ]
  },
  {
   "cell_type": "code",
   "execution_count": 24,
   "metadata": {},
   "outputs": [],
   "source": [
    "class Solution:\n",
    "    def validMountainArray(self, arr: List[int]) -> bool:\n",
    "        length = len(arr)\n",
    "        if length < 3:\n",
    "            return False\n",
    "        for pos in range(1, length - 1, 1):\n",
    "            left = pos - 1\n",
    "            right = pos + 1\n",
    "            left_pos = pos\n",
    "            right_pos = pos\n",
    "\n",
    "            while arr[left_pos] > arr[left]:\n",
    "                left_pos += -1\n",
    "                left += -1\n",
    "                if left == -1:\n",
    "                    break\n",
    "            \n",
    "            while arr[right_pos] > arr[right]:\n",
    "                right_pos += 1\n",
    "                right += 1\n",
    "                if right == length:\n",
    "                    break\n",
    "\n",
    "            if left == -1 and right == length:\n",
    "                return True, pos\n",
    "        return False"
   ]
  },
  {
   "cell_type": "markdown",
   "metadata": {},
   "source": [
    "Time and Space Complexity Analysis:\n",
    "\n",
    "- Time: $O(n^2)$\n",
    "- Space: $O(1)$"
   ]
  },
  {
   "cell_type": "code",
   "execution_count": 25,
   "metadata": {},
   "outputs": [],
   "source": [
    "class Solution:\n",
    "    def validMountainArray(self, arr: List[int]) -> bool:\n",
    "        length = len(arr)\n",
    "        if length < 3:\n",
    "            return False\n",
    "        peak = 0\n",
    "        while arr[peak] < arr[peak + 1]:\n",
    "            peak += 1\n",
    "            if peak == length -1:\n",
    "                break \n",
    "        if peak == 0 or peak == length - 1:\n",
    "            return False\n",
    "        while arr[peak] > arr[peak + 1]:\n",
    "            peak += 1\n",
    "            if peak == length - 1:\n",
    "                break\n",
    "        return peak == length - 1"
   ]
  },
  {
   "cell_type": "code",
   "execution_count": 26,
   "metadata": {},
   "outputs": [
    {
     "data": {
      "text/plain": [
       "True"
      ]
     },
     "execution_count": 26,
     "metadata": {},
     "output_type": "execute_result"
    }
   ],
   "source": [
    "solution_instance = Solution()\n",
    "solution_instance.validMountainArray([0, 3, 2, 1])"
   ]
  },
  {
   "cell_type": "markdown",
   "metadata": {},
   "source": [
    "Time and Space Complexity Analysis:\n",
    "\n",
    "- Time: $O(n)$\n",
    "- Space: $O(1)$"
   ]
  },
  {
   "cell_type": "markdown",
   "metadata": {},
   "source": [
    "I came up with another solution when I did this the second time and this is easier to understand. "
   ]
  },
  {
   "cell_type": "code",
   "execution_count": 27,
   "metadata": {},
   "outputs": [],
   "source": [
    "class Solution:\n",
    "    def validMountainArray(self, arr: List[int]) -> bool:\n",
    "        if len(arr) < 3:\n",
    "            return False\n",
    "        left = 0\n",
    "        right = len(arr) - 1\n",
    "        # when left reaches the second to last element, stop\n",
    "        while left < len(arr) - 2:\n",
    "            if arr[left] < arr[left + 1]:\n",
    "                left += 1\n",
    "            else:\n",
    "                break \n",
    "        # when right reaches the second element, stop\n",
    "        while right > 1:\n",
    "            if arr[right] < arr[right - 1]:\n",
    "                right -= 1\n",
    "            else:\n",
    "                break \n",
    "        if left == right: return True"
   ]
  },
  {
   "cell_type": "code",
   "execution_count": 37,
   "metadata": {},
   "outputs": [],
   "source": [
    "arr = [17,18,5,4,6,1]\n",
    "arr_copy = arr.copy()\n",
    "arr_copy.sort(reverse=True)"
   ]
  },
  {
   "cell_type": "code",
   "execution_count": 38,
   "metadata": {},
   "outputs": [
    {
     "data": {
      "text/plain": [
       "[18, 17, 6, 5, 4, 1]"
      ]
     },
     "execution_count": 38,
     "metadata": {},
     "output_type": "execute_result"
    }
   ],
   "source": [
    "arr_copy"
   ]
  },
  {
   "cell_type": "code",
   "execution_count": 39,
   "metadata": {},
   "outputs": [
    {
     "data": {
      "text/plain": [
       "[1, 0, 4, 2, 3, 5]"
      ]
     },
     "execution_count": 39,
     "metadata": {},
     "output_type": "execute_result"
    }
   ],
   "source": [
    "indices = [arr.index(i) for i in arr_copy]\n",
    "indices"
   ]
  },
  {
   "cell_type": "code",
   "execution_count": null,
   "metadata": {},
   "outputs": [],
   "source": []
  }
 ],
 "metadata": {
  "kernelspec": {
   "display_name": "bayes",
   "language": "python",
   "name": "python3"
  },
  "language_info": {
   "codemirror_mode": {
    "name": "ipython",
    "version": 3
   },
   "file_extension": ".py",
   "mimetype": "text/x-python",
   "name": "python",
   "nbconvert_exporter": "python",
   "pygments_lexer": "ipython3",
   "version": "3.8.19"
  }
 },
 "nbformat": 4,
 "nbformat_minor": 2
}
